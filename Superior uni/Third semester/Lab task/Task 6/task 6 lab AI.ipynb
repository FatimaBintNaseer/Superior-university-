{
 "cells": [
  {
   "cell_type": "markdown",
   "id": "1265209b-0ccc-4567-bbd1-ae14e00bb13e",
   "metadata": {},
   "source": [
    "# BFS without queue and node"
   ]
  },
  {
   "cell_type": "code",
   "execution_count": 1,
   "id": "0bb4e7c6-dc20-4438-9df8-2ed711810beb",
   "metadata": {},
   "outputs": [
    {
     "name": "stdout",
     "output_type": "stream",
     "text": [
      "A B C D E F G "
     ]
    }
   ],
   "source": [
    "def recursive_bfs(graph, nodes, visited):\n",
    "    if not nodes:\n",
    "        return\n",
    "    \n",
    "    new_nodes = []\n",
    "    for node in nodes:\n",
    "        if node not in visited:\n",
    "            print(node, end=\" \")  \n",
    "            visited.add(node) \n",
    "            new_nodes.extend(graph.get(node, []))  \n",
    "    \n",
    "    recursive_bfs(graph, new_nodes, visited)\n",
    "\n",
    "data = {\n",
    "    'A': ['B', 'C'],\n",
    "    'B': ['D', 'E'],\n",
    "    'C': ['F', 'G'],\n",
    "    'D': [], 'E': [], 'F': [], 'G': []\n",
    "}\n",
    "\n",
    "recursive_bfs(data, ['A'], set())\n"
   ]
  },
  {
   "cell_type": "code",
   "execution_count": null,
   "id": "baf2ba33-4564-4e55-801a-1a08890fdfbe",
   "metadata": {},
   "outputs": [],
   "source": []
  },
  {
   "cell_type": "code",
   "execution_count": 3,
   "id": "6ce98857-386e-4763-98ad-254d62c4684d",
   "metadata": {},
   "outputs": [
    {
     "name": "stdout",
     "output_type": "stream",
     "text": [
      "A B C D E F G "
     ]
    }
   ],
   "source": [
    "class GraphNode:\n",
    "    def __init__(self, data):\n",
    "        self.data = data\n",
    "        self.adjacent = []\n",
    "\n",
    "def breadth_first_search(start):\n",
    "    queue = [start]\n",
    "    visited = set([start])\n",
    "    \n",
    "    while queue:\n",
    "        current = queue.pop(0)\n",
    "        print(current.data, end=\" \")\n",
    "        \n",
    "        for neighbor in current.adjacent:\n",
    "            if neighbor not in visited:\n",
    "                visited.add(neighbor)\n",
    "                queue.append(neighbor)\n",
    "\n",
    "A, B, C, D, E, F, G = [GraphNode(x) for x in \"ABCDEFG\"]\n",
    "\n",
    "A.adjacent = [B, C]\n",
    "B.adjacent = [D, E]\n",
    "C.adjacent = [F, G]\n",
    "\n",
    "def build_sample_graph():\n",
    "    return A\n",
    "  \n",
    "breadth_first_search(build_sample_graph())\n"
   ]
  },
  {
   "cell_type": "code",
   "execution_count": null,
   "id": "8cd01704-eefa-4b3e-9098-13a81feac217",
   "metadata": {},
   "outputs": [],
   "source": []
  }
 ],
 "metadata": {
  "kernelspec": {
   "display_name": "Python 3 (ipykernel)",
   "language": "python",
   "name": "python3"
  },
  "language_info": {
   "codemirror_mode": {
    "name": "ipython",
    "version": 3
   },
   "file_extension": ".py",
   "mimetype": "text/x-python",
   "name": "python",
   "nbconvert_exporter": "python",
   "pygments_lexer": "ipython3",
   "version": "3.12.4"
  }
 },
 "nbformat": 4,
 "nbformat_minor": 5
}
