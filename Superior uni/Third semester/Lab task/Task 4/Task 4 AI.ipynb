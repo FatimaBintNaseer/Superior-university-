{
 "cells": [
  {
   "cell_type": "markdown",
   "id": "b0b8be6c-d0a5-4b9c-889a-f0a4cec1db86",
   "metadata": {},
   "source": [
    "# LUHN ALGORITHM"
   ]
  },
  {
   "cell_type": "code",
   "execution_count": 1,
   "id": "409b427c-2d21-4ff4-a9eb-90577b0e5165",
   "metadata": {},
   "outputs": [
    {
     "name": "stdout",
     "output_type": "stream",
     "text": [
      "Testing card number: 4539148803436467\n",
      "Valid card number!\n"
     ]
    }
   ],
   "source": [
    "def validate_card(number):\n",
    "    number_str = str(number) \n",
    "    digits = [int(d) for d in number_str] \n",
    "    digits.reverse() \n",
    "\n",
    "    for i in range(1, len(digits), 2):  \n",
    "        doubled = digits[i] * 2\n",
    "        digits[i] = doubled - 9 if doubled > 9 else doubled \n",
    "    \n",
    "    return sum(digits) % 10 == 0  \n",
    "\n",
    "example_card = \"4539148803436467\" \n",
    "print(f\"Testing card number: {example_card}\")\n",
    "print(\"Valid card number!\" if validate_card(example_card) else \"Invalid card number!\")\n"
   ]
  },
  {
   "cell_type": "markdown",
   "id": "f0f5829d-f5e9-4d8d-86b7-46bcdd03a027",
   "metadata": {},
   "source": [
    "# REMOVE PUNCTUATION"
   ]
  },
  {
   "cell_type": "code",
   "execution_count": 4,
   "id": "4afb6dc0-5305-4310-a3fd-53994a55f973",
   "metadata": {},
   "outputs": [
    {
     "name": "stdin",
     "output_type": "stream",
     "text": [
      "Enter a string:  python is easy language\n"
     ]
    },
    {
     "name": "stdout",
     "output_type": "stream",
     "text": [
      "python is easy language\n"
     ]
    }
   ],
   "source": [
    "def remove_punctuation(text):\n",
    "    result = \"\"\n",
    "    for char in text:\n",
    "        if not ((\"!\" <= char <= \"/\") or (\":\" <= char <= \"@\") or (\"[\" <= char <= \"`\") or (\"{\" <= char <= \"~\")):\n",
    "            result += char\n",
    "    return result\n",
    "\n",
    "text = input(\"Enter a string: \")\n",
    "print(remove_punctuation(text))\n"
   ]
  },
  {
   "cell_type": "code",
   "execution_count": null,
   "id": "b2d2317a-55c0-4680-aa51-04bd3a7fb8f4",
   "metadata": {},
   "outputs": [],
   "source": []
  }
 ],
 "metadata": {
  "kernelspec": {
   "display_name": "Python 3 (ipykernel)",
   "language": "python",
   "name": "python3"
  },
  "language_info": {
   "codemirror_mode": {
    "name": "ipython",
    "version": 3
   },
   "file_extension": ".py",
   "mimetype": "text/x-python",
   "name": "python",
   "nbconvert_exporter": "python",
   "pygments_lexer": "ipython3",
   "version": "3.12.4"
  }
 },
 "nbformat": 4,
 "nbformat_minor": 5
}
