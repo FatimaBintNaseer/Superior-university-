{
 "cells": [
  {
   "cell_type": "markdown",
   "id": "39d6678f-0b0d-46df-b32b-138075e8cd7d",
   "metadata": {},
   "source": [
    "# Min, Max Algorithm"
   ]
  },
  {
   "cell_type": "code",
   "execution_count": 1,
   "id": "44d3c917-915c-4047-aed9-24cd14a0c00a",
   "metadata": {},
   "outputs": [
    {
     "name": "stdout",
     "output_type": "stream",
     "text": [
      "Best move: 12\n"
     ]
    }
   ],
   "source": [
    "def best_move(depth, index, is_max, values, max_depth):\n",
    "    if depth == max_depth:\n",
    "        return values[index]\n",
    "    \n",
    "    left = best_move(depth + 1, index * 2, not is_max, values, max_depth)\n",
    "    right = best_move(depth + 1, index * 2 + 1, not is_max, values, max_depth)\n",
    "    \n",
    "    return max(left, right) if is_max else min(left, right)\n",
    "\n",
    "values = [3, 5, 2, 9, 12, 5, 23, 23]\n",
    "max_depth = len(values).bit_length() - 1\n",
    "result = best_move(0, 0, True, values, max_depth)\n",
    "print(\"Best move:\", result)"
   ]
  },
  {
   "cell_type": "code",
   "execution_count": null,
   "id": "4e9b2aae-d02e-4176-ace7-d522257cfa65",
   "metadata": {},
   "outputs": [],
   "source": []
  }
 ],
 "metadata": {
  "kernelspec": {
   "display_name": "Python 3 (ipykernel)",
   "language": "python",
   "name": "python3"
  },
  "language_info": {
   "codemirror_mode": {
    "name": "ipython",
    "version": 3
   },
   "file_extension": ".py",
   "mimetype": "text/x-python",
   "name": "python",
   "nbconvert_exporter": "python",
   "pygments_lexer": "ipython3",
   "version": "3.12.4"
  }
 },
 "nbformat": 4,
 "nbformat_minor": 5
}
