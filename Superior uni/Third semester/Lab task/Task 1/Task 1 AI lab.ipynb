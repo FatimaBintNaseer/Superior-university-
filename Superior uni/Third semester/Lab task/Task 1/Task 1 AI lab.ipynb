{
 "cells": [
  {
   "cell_type": "code",
   "execution_count": 1,
   "id": "09c7a77c-b57b-4bec-ae08-a133ccb10716",
   "metadata": {},
   "outputs": [
    {
     "name": "stdin",
     "output_type": "stream",
     "text": [
      "\n",
      "1. Add  2. View  3. Edit  4. Remove  5. Exit\n",
      "Choose:  3\n"
     ]
    },
    {
     "name": "stdout",
     "output_type": "stream",
     "text": [
      "No tasks yet!\n"
     ]
    },
    {
     "name": "stdin",
     "output_type": "stream",
     "text": [
      "Task #:  2\n",
      "New task:  4\n"
     ]
    },
    {
     "name": "stdout",
     "output_type": "stream",
     "text": [
      "Invalid task number!\n"
     ]
    },
    {
     "name": "stdin",
     "output_type": "stream",
     "text": [
      "\n",
      "1. Add  2. View  3. Edit  4. Remove  5. Exit\n",
      "Choose:  5\n"
     ]
    },
    {
     "name": "stdout",
     "output_type": "stream",
     "text": [
      "Goodbye!\n"
     ]
    }
   ],
   "source": [
    "class TaskManager:\n",
    "    def __init__(self):\n",
    "        self.tasks = []\n",
    "    \n",
    "    def add_task(self, task):\n",
    "        self.tasks.append(task)\n",
    "        print(f\"Added: {task}\")\n",
    "    \n",
    "    def show_tasks(self):\n",
    "        if self.tasks:\n",
    "            print(\"\\nTo-Do List:\")\n",
    "            for i, task in enumerate(self.tasks, 1):\n",
    "                print(f\"{i}. {task}\")\n",
    "        else:\n",
    "            print(\"No tasks yet!\")\n",
    "    \n",
    "    def update_task(self, index, new_task):\n",
    "        if 0 <= index < len(self.tasks):\n",
    "            self.tasks[index] = new_task\n",
    "            print(\"Task updated!\")\n",
    "        else:\n",
    "            print(\"Invalid task number!\")\n",
    "    \n",
    "    def remove_task(self, index):\n",
    "        if 0 <= index < len(self.tasks):\n",
    "            print(f\"Removed: {self.tasks.pop(index)}\")\n",
    "        else:\n",
    "            print(\"Invalid task number!\")\n",
    "\n",
    "def main():\n",
    "    todo = TaskManager()\n",
    "    while True:\n",
    "        choice = input(\"\\n1. Add  2. View  3. Edit  4. Remove  5. Exit\\nChoose: \")\n",
    "        if choice == '1':\n",
    "            todo.add_task(input(\"Task: \"))\n",
    "        elif choice == '2':\n",
    "            todo.show_tasks()\n",
    "        elif choice == '3':\n",
    "            todo.show_tasks()\n",
    "            try:\n",
    "                idx = int(input(\"Task #: \")) - 1\n",
    "                todo.update_task(idx, input(\"New task: \"))\n",
    "            except ValueError:\n",
    "                print(\"Invalid input!\")\n",
    "        elif choice == '4':\n",
    "            todo.show_tasks()\n",
    "            try:\n",
    "                todo.remove_task(int(input(\"Task #: \")) - 1)\n",
    "            except ValueError:\n",
    "                print(\"Invalid input!\")\n",
    "        elif choice == '5':\n",
    "            print(\"Goodbye!\")\n",
    "            break\n",
    "        else:\n",
    "            print(\"Invalid option!\")\n",
    "\n",
    "if __name__ == \"__main__\":\n",
    "    main()\n"
   ]
  },
  {
   "cell_type": "code",
   "execution_count": null,
   "id": "3caa8df7-4df4-4f4f-8d3c-8f3a5fe58906",
   "metadata": {},
   "outputs": [],
   "source": []
  }
 ],
 "metadata": {
  "kernelspec": {
   "display_name": "Python 3 (ipykernel)",
   "language": "python",
   "name": "python3"
  },
  "language_info": {
   "codemirror_mode": {
    "name": "ipython",
    "version": 3
   },
   "file_extension": ".py",
   "mimetype": "text/x-python",
   "name": "python",
   "nbconvert_exporter": "python",
   "pygments_lexer": "ipython3",
   "version": "3.12.4"
  }
 },
 "nbformat": 4,
 "nbformat_minor": 5
}
