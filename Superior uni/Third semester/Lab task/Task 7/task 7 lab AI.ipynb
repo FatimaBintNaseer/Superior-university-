{
 "cells": [
  {
   "cell_type": "code",
   "execution_count": null,
   "id": "fb967dc6-8ce5-47b7-8302-1f7e24f55572",
   "metadata": {},
   "outputs": [],
   "source": []
  }
 ],
 "metadata": {
  "kernelspec": {
   "display_name": "Python 3 (ipykernel)",
   "language": "python",
   "name": "python3"
  },
  "language_info": {
   "codemirror_mode": {
    "name": "ipython",
    "version": 3
   },
   "file_extension": ".py",
   "mimetype": "text/x-python",
   "name": "python",
   "nbconvert_exporter": "python",
   "pygments_lexer": "ipython3",
   "version": "3.12.4"
  }
 },
 "nbformat": 4,
 "nbformat_minor": 5
}
