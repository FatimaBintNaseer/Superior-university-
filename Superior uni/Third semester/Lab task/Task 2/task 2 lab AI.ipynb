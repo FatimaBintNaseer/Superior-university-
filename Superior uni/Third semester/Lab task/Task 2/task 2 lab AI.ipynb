{
 "cells": [
  {
   "cell_type": "markdown",
   "id": "0b4ff862-5e8a-4805-9478-6d5a364855df",
   "metadata": {},
   "source": [
    "# mini project 1:"
   ]
  },
  {
   "cell_type": "code",
   "execution_count": 3,
   "id": "1257eb38-5053-42eb-bc48-6d5b7390a466",
   "metadata": {},
   "outputs": [
    {
     "name": "stdin",
     "output_type": "stream",
     "text": [
      "Add movies? (yes/no):  7\n"
     ]
    },
    {
     "name": "stdout",
     "output_type": "stream",
     "text": [
      "\n",
      "Average budget: $190,500,000.00\n",
      "\n",
      "Movies with a higher budget than average:\n",
      " - Pirates of the Caribbean: On Stranger Tides ($379,000,000)\n",
      " - Avengers: Age of Ultron ($365,000,000)\n",
      " - Avengers: Endgame ($356,000,000)\n",
      " - Incredibles 2 ($200,000,000)\n"
     ]
    }
   ],
   "source": [
    "class MovieDatabase:\n",
    "    def __init__(self):\n",
    "        self.movies = [\n",
    "            (\"Eternal Sunshine of the Spotless Mind\", 20000000),\n",
    "            (\"Memento\", 9000000),\n",
    "            (\"Requiem for a Dream\", 4500000),\n",
    "            (\"Pirates of the Caribbean: On Stranger Tides\", 379000000),\n",
    "            (\"Avengers: Age of Ultron\", 365000000),\n",
    "            (\"Avengers: Endgame\", 356000000),\n",
    "            (\"Incredibles 2\", 200000000),\n",
    "        ]\n",
    "    \n",
    "    def get_average_budget(self):\n",
    "        return sum(budget for _, budget in self.movies) / len(self.movies)\n",
    "\n",
    "    def get_high_budget_movies(self, average):\n",
    "        return [movie for movie in self.movies if movie[1] > average]\n",
    "\n",
    "    def add_movies(self):\n",
    "        num_movies = int(input(\"How many movies to add? \"))\n",
    "        for _ in range(num_movies):\n",
    "            name = input(\"Movie name: \")\n",
    "            budget = int(input(f\"Budget for '{name}': \"))\n",
    "            self.movies.append((name, budget))\n",
    "        print(f\"Added {num_movies} movies!\")\n",
    "\n",
    "    def show_results(self):\n",
    "        avg_budget = self.get_average_budget()\n",
    "        print(f\"\\nAverage budget: ${avg_budget:,.2f}\")\n",
    "        high_budget_movies = self.get_high_budget_movies(avg_budget)\n",
    "        \n",
    "        if high_budget_movies:\n",
    "            print(\"\\nMovies with a higher budget than average:\")\n",
    "            for movie, budget in high_budget_movies:\n",
    "                print(f\" - {movie} (${budget:,})\")\n",
    "        else:\n",
    "            print(\"\\nNo high-budget movies.\")\n",
    "\n",
    "if __name__ == \"__main__\":\n",
    "    db = MovieDatabase()\n",
    "    if input(\"Add movies? (yes/no): \").strip().lower() == \"yes\":\n",
    "        db.add_movies()\n",
    "    db.show_results()\n"
   ]
  },
  {
   "cell_type": "markdown",
   "id": "e90f8b62-2678-4a1f-9d98-95b3146cc24a",
   "metadata": {},
   "source": [
    "#  mini prolect2:"
   ]
  },
  {
   "cell_type": "code",
   "execution_count": 1,
   "id": "ad0079bc-41d8-43a7-b26a-6ca3da86c28e",
   "metadata": {},
   "outputs": [
    {
     "name": "stdout",
     "output_type": "stream",
     "text": [
      "\n",
      " Welcome to Fizz Buzz! \n"
     ]
    },
    {
     "name": "stdin",
     "output_type": "stream",
     "text": [
      "Enter the number of rounds:  5\n"
     ]
    },
    {
     "name": "stdout",
     "output_type": "stream",
     "text": [
      "\n",
      " Rules: Fizz (3), Buzz (5), FizzBuzz (3 & 5), else the number.\n",
      "\n",
      "🔹 Round 1: 34 → 34\n",
      "🔹 Round 2: 20 →  Buzz!\n",
      "🔹 Round 3: 39 →  Fizz!\n",
      "🔹 Round 4: 27 →  Fizz!\n",
      "🔹 Round 5: 20 →  Buzz!\n",
      "\n",
      " Game Over! Thanks for playing! \n"
     ]
    }
   ],
   "source": [
    "import random\n",
    "\n",
    "def fizz_buzz():\n",
    "    print(\"\\n Welcome to Fizz Buzz! \")\n",
    "\n",
    "    while True:\n",
    "        try:\n",
    "            rounds = int(input(\"Enter the number of rounds: \"))\n",
    "            if rounds > 0:\n",
    "                break\n",
    "            print(\" Enter a positive number!\")\n",
    "        except ValueError:\n",
    "            print(\" Invalid input! Enter a number.\")\n",
    "\n",
    "    print(\"\\n Rules: Fizz (3), Buzz (5), FizzBuzz (3 & 5), else the number.\\n\")\n",
    "\n",
    "    for i in range(1, rounds + 1):\n",
    "        num = random.randint(3, 40)\n",
    "        print(f\"🔹 Round {i}: {num} →\", end=\" \")\n",
    "\n",
    "        if num % 3 == 0 and num % 5 == 0:\n",
    "            print(\" FizzBuzz!\")\n",
    "        elif num % 3 == 0:\n",
    "            print(\" Fizz!\")\n",
    "        elif num % 5 == 0:\n",
    "            print(\" Buzz!\")\n",
    "        else:\n",
    "            print(num)\n",
    "\n",
    "    print(\"\\n Game Over! Thanks for playing! \")\n",
    "\n",
    "fizz_buzz()\n"
   ]
  },
  {
   "cell_type": "code",
   "execution_count": null,
   "id": "59a2c38b-e051-49cf-a8d3-3fa8110599be",
   "metadata": {},
   "outputs": [],
   "source": []
  }
 ],
 "metadata": {
  "kernelspec": {
   "display_name": "Python 3 (ipykernel)",
   "language": "python",
   "name": "python3"
  },
  "language_info": {
   "codemirror_mode": {
    "name": "ipython",
    "version": 3
   },
   "file_extension": ".py",
   "mimetype": "text/x-python",
   "name": "python",
   "nbconvert_exporter": "python",
   "pygments_lexer": "ipython3",
   "version": "3.12.4"
  }
 },
 "nbformat": 4,
 "nbformat_minor": 5
}
