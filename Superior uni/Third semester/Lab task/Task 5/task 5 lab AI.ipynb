{
 "cells": [
  {
   "cell_type": "markdown",
   "id": "2cadebf3-a4b4-4afa-9762-9026edc5a8a4",
   "metadata": {},
   "source": [
    "# DFS with stack and node"
   ]
  },
  {
   "cell_type": "code",
   "execution_count": 1,
   "id": "d1d505c3-8e53-444d-84c5-cc84669885c2",
   "metadata": {},
   "outputs": [
    {
     "name": "stdout",
     "output_type": "stream",
     "text": [
      "A B D E C F "
     ]
    }
   ],
   "source": [
    "class GraphNode:\n",
    "    def __init__(self, data):\n",
    "        self.data = data\n",
    "        self.connections = []\n",
    "\n",
    "    def connect(self, other_node):\n",
    "        self.connections.append(other_node)\n",
    "\n",
    "def depth_first_search(start):\n",
    "    visited_nodes = set()\n",
    "    stack = [start]\n",
    "\n",
    "    while stack:\n",
    "        current = stack.pop()\n",
    "        if current not in visited_nodes:\n",
    "            print(current.data, end=\" \")\n",
    "            visited_nodes.add(current)\n",
    "            stack.extend(reversed(current.connections))\n",
    "\n",
    "nodeA = GraphNode('A')\n",
    "nodeB = GraphNode('B')\n",
    "nodeC = GraphNode('C')\n",
    "nodeD = GraphNode('D')\n",
    "nodeE = GraphNode('E')\n",
    "nodeF = GraphNode('F')\n",
    "\n",
    "nodeA.connect(nodeB)\n",
    "nodeA.connect(nodeC)\n",
    "nodeB.connect(nodeD)\n",
    "nodeB.connect(nodeE)\n",
    "nodeC.connect(nodeF)\n",
    "\n",
    "depth_first_search(nodeA)\n"
   ]
  },
  {
   "cell_type": "code",
   "execution_count": 3,
   "id": "b12f3f79-3ba6-4ce6-b20d-ce9ce0014103",
   "metadata": {},
   "outputs": [
    {
     "name": "stdout",
     "output_type": "stream",
     "text": [
      "Inorder Traversal:\n",
      "D B E A F C \n",
      "Preorder Traversal:\n",
      "A B D E C F \n",
      "Postorder Traversal:\n",
      "D E B F C A "
     ]
    }
   ],
   "source": [
    "class TreeNode:\n",
    "    def __init__(self, value):\n",
    "        self.value = value\n",
    "        self.left = None\n",
    "        self.right = None\n",
    "\n",
    "def inorder(node):\n",
    "    if node:\n",
    "        inorder(node.left)\n",
    "        print(node.value, end=\" \")\n",
    "        inorder(node.right)\n",
    "\n",
    "def preorder(node):\n",
    "    if node:\n",
    "        print(node.value, end=\" \")\n",
    "        preorder(node.left)\n",
    "        preorder(node.right)\n",
    "\n",
    "def postorder(node):\n",
    "    if node:\n",
    "        postorder(node.left)\n",
    "        postorder(node.right)\n",
    "        print(node.value, end=\" \")\n",
    "\n",
    "root = TreeNode('A')\n",
    "root.left = TreeNode('B')\n",
    "root.right = TreeNode('C')\n",
    "root.left.left = TreeNode('D')\n",
    "root.left.right = TreeNode('E')\n",
    "root.right.left = TreeNode('F')\n",
    "\n",
    "print(\"Inorder Traversal:\")\n",
    "inorder(root)\n",
    "print(\"\\nPreorder Traversal:\")\n",
    "preorder(root)\n",
    "print(\"\\nPostorder Traversal:\")\n",
    "postorder(root)\n"
   ]
  },
  {
   "cell_type": "code",
   "execution_count": null,
   "id": "2a078473-b666-483f-abce-07a2384ece44",
   "metadata": {},
   "outputs": [],
   "source": []
  }
 ],
 "metadata": {
  "kernelspec": {
   "display_name": "Python 3 (ipykernel)",
   "language": "python",
   "name": "python3"
  },
  "language_info": {
   "codemirror_mode": {
    "name": "ipython",
    "version": 3
   },
   "file_extension": ".py",
   "mimetype": "text/x-python",
   "name": "python",
   "nbconvert_exporter": "python",
   "pygments_lexer": "ipython3",
   "version": "3.12.4"
  }
 },
 "nbformat": 4,
 "nbformat_minor": 5
}
