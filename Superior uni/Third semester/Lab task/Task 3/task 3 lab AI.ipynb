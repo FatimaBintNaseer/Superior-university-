{
 "cells": [
  {
   "cell_type": "code",
   "execution_count": 4,
   "id": "f9b1f76d-320a-4fb0-8249-bc9fa1779a7c",
   "metadata": {},
   "outputs": [
    {
     "name": "stdout",
     "output_type": "stream",
     "text": [
      " Temp: 20°C\n",
      " It's cold! Turning heater ON.\n",
      " Temp: 21°C\n",
      " No change needed.\n",
      " Temp: 22°C\n",
      " Warm enough. Heater OFF.\n",
      " Temp: 22°C\n",
      " No change needed.\n",
      " Temp: 23°C\n",
      " No change needed.\n",
      " Temp: 21°C\n",
      " It's cold! Turning heater ON.\n",
      " Temp: 20°C\n",
      " No change needed.\n",
      " Temp: 20°C\n",
      " No change needed.\n"
     ]
    }
   ],
   "source": [
    "class SmartHeater:\n",
    "    def __init__(self, desired_temp=22):\n",
    "        self.desired_temp = desired_temp  \n",
    "        self.heater_on = False  \n",
    "\n",
    "    def regulate(self, current_temp):\n",
    "        if current_temp < self.desired_temp and not self.heater_on:\n",
    "            self.heater_on = True\n",
    "            print(\" It's cold! Turning heater ON.\")\n",
    "        elif current_temp >= self.desired_temp and self.heater_on:\n",
    "            self.heater_on = False\n",
    "            print(\" Warm enough. Heater OFF.\")\n",
    "        else:\n",
    "            print(\" No change needed.\")\n",
    "\n",
    "if __name__ == \"__main__\":\n",
    "    heater = SmartHeater(22)\n",
    "    temps = [20, 21, 22, 22, 23, 21, 20, 20]\n",
    "\n",
    "    for temp in temps:\n",
    "        print(f\" Temp: {temp}°C\")\n",
    "        heater.regulate(temp)\n"
   ]
  },
  {
   "cell_type": "code",
   "execution_count": null,
   "id": "8381ad86-714c-42c8-8c29-d64e6bd68fb9",
   "metadata": {},
   "outputs": [],
   "source": []
  }
 ],
 "metadata": {
  "kernelspec": {
   "display_name": "Python 3 (ipykernel)",
   "language": "python",
   "name": "python3"
  },
  "language_info": {
   "codemirror_mode": {
    "name": "ipython",
    "version": 3
   },
   "file_extension": ".py",
   "mimetype": "text/x-python",
   "name": "python",
   "nbconvert_exporter": "python",
   "pygments_lexer": "ipython3",
   "version": "3.12.4"
  }
 },
 "nbformat": 4,
 "nbformat_minor": 5
}
